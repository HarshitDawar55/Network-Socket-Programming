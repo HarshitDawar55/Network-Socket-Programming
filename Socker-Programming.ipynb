{
 "cells": [
  {
   "cell_type": "markdown",
   "metadata": {},
   "source": [
    "# Socket Programming Program by `Mr. Harshit Dawar!`"
   ]
  },
  {
   "cell_type": "code",
   "execution_count": 1,
   "metadata": {},
   "outputs": [],
   "source": [
    "import socket"
   ]
  },
  {
   "cell_type": "code",
   "execution_count": null,
   "metadata": {},
   "outputs": [],
   "source": [
    "# Recieving Program using UDP Protocol\n",
    "def receive():\n",
    "    receiver = socket.socket(socket.AF_INET, socket.SOCK_DGRAM)\n",
    "    receiver_ip = \"<Ip Address of the Receiver Machine! >\"\n",
    "    receiver_port = \"<Port of the Receiver Machine! >\"\n",
    "    receiver.bind((receiver_ip, receiver_port))\n",
    "    \n",
    "    while True:"
   ]
  }
 ],
 "metadata": {
  "kernelspec": {
   "display_name": "Python 3",
   "language": "python",
   "name": "python3"
  },
  "language_info": {
   "codemirror_mode": {
    "name": "ipython",
    "version": 3
   },
   "file_extension": ".py",
   "mimetype": "text/x-python",
   "name": "python",
   "nbconvert_exporter": "python",
   "pygments_lexer": "ipython3",
   "version": "3.7.9"
  }
 },
 "nbformat": 4,
 "nbformat_minor": 4
}
