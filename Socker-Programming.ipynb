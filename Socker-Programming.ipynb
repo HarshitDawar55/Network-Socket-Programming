{
 "cells": [
  {
   "cell_type": "markdown",
   "metadata": {},
   "source": [
    "# Socket Programming Program by `Mr. Harshit Dawar!`"
   ]
  },
  {
   "cell_type": "code",
   "execution_count": 1,
   "metadata": {},
   "outputs": [],
   "source": [
    "import socket"
   ]
  },
  {
   "cell_type": "code",
   "execution_count": 3,
   "metadata": {},
   "outputs": [],
   "source": [
    "# Recieving Program using UDP Protocol\n",
    "def receive(ip, port):\n",
    "    receiver = socket.socket(socket.AF_INET, socket.SOCK_DGRAM)\n",
    "    receiver_ip = ip\n",
    "    receiver_port = port\n",
    "    receiver.bind((receiver_ip, receiver_port))\n",
    "    \n",
    "    while True:\n",
    "        data = receiver.recvfrom(512)  # Max Number of bytes in data\n",
    "        clientIP = data[1][0]\n",
    "        clientPort = data[1][1]\n",
    "        message = data[0].decode()\n",
    "        print(clientIP + \":\" + message)"
   ]
  },
  {
   "cell_type": "code",
   "execution_count": 7,
   "metadata": {},
   "outputs": [],
   "source": [
    "def send(ip, port, message):\n",
    "    sender = socket.socket(socket.AF_INET, socket.SOCK_DGRAM)\n",
    "    message = message.encode()\n",
    "    receiverIP = ip\n",
    "    receiverPort = port\n",
    "    sender.sendto(message, (receiverIP, receiverPort))"
   ]
  },
  {
   "cell_type": "markdown",
   "metadata": {},
   "source": [
    "## Congratulations, you have implemented a socket/network program to send & receive Message is built!"
   ]
  }
 ],
 "metadata": {
  "kernelspec": {
   "display_name": "Python 3",
   "language": "python",
   "name": "python3"
  },
  "language_info": {
   "codemirror_mode": {
    "name": "ipython",
    "version": 3
   },
   "file_extension": ".py",
   "mimetype": "text/x-python",
   "name": "python",
   "nbconvert_exporter": "python",
   "pygments_lexer": "ipython3",
   "version": "3.7.9"
  }
 },
 "nbformat": 4,
 "nbformat_minor": 4
}
