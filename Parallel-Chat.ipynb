{
 "cells": [
  {
   "cell_type": "code",
   "execution_count": 1,
   "metadata": {},
   "outputs": [],
   "source": [
    "from socket import socket\n",
    "import threading"
   ]
  },
  {
   "cell_type": "code",
   "execution_count": null,
   "metadata": {},
   "outputs": [],
   "source": [
    "# Server Program\n",
    "skt = socket()\n",
    "\n",
    "# Initialiing blank IP, so that next time automatic dynamic IP of the server is Initialized!\n",
    "serverip = \"\"      \n",
    "serverport = 1234\n",
    "skt.bind((serverip, serverport))\n",
    "skt.listen()\n",
    "\n",
    "def program(session, details):\n",
    "    print(details)\n",
    "    session.send(\"I am server!\")\n",
    "    data = session.recv(515)\n",
    "    print(data)\n",
    "    \n",
    "    \n",
    "while True:\n",
    "    session, details = skt.accept()\n",
    "    t1 = threading.Thread(target = program, args = (session, details))\n",
    "    t1.start()"
   ]
  },
  {
   "cell_type": "code",
   "execution_count": null,
   "metadata": {},
   "outputs": [],
   "source": []
  }
 ],
 "metadata": {
  "kernelspec": {
   "display_name": "Python 3",
   "language": "python",
   "name": "python3"
  },
  "language_info": {
   "codemirror_mode": {
    "name": "ipython",
    "version": 3
   },
   "file_extension": ".py",
   "mimetype": "text/x-python",
   "name": "python",
   "nbconvert_exporter": "python",
   "pygments_lexer": "ipython3",
   "version": "3.7.9"
  }
 },
 "nbformat": 4,
 "nbformat_minor": 4
}
